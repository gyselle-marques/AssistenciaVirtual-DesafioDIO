{
  "nbformat": 4,
  "nbformat_minor": 0,
  "metadata": {
    "colab": {
      "provenance": [],
      "authorship_tag": "ABX9TyP7OSsKh/ycCpg7msykeNIG",
      "include_colab_link": true
    },
    "kernelspec": {
      "name": "python3",
      "display_name": "Python 3"
    },
    "language_info": {
      "name": "python"
    }
  },
  "cells": [
    {
      "cell_type": "markdown",
      "metadata": {
        "id": "view-in-github",
        "colab_type": "text"
      },
      "source": [
        "<a href=\"https://colab.research.google.com/github/gyselle-marques/AssistenciaVirtual-DesafioDIO/blob/main/assistente_virtual.ipynb\" target=\"_parent\"><img src=\"https://colab.research.google.com/assets/colab-badge.svg\" alt=\"Open In Colab\"/></a>"
      ]
    },
    {
      "cell_type": "code",
      "execution_count": null,
      "metadata": {
        "colab": {
          "base_uri": "https://localhost:8080/"
        },
        "id": "Zx9ObwMl4iBs",
        "outputId": "e542f938-1b38-4fc6-9915-1d0d0c89b322"
      },
      "outputs": [
        {
          "output_type": "stream",
          "name": "stdout",
          "text": [
            "Requirement already satisfied: SpeechRecognition in /usr/local/lib/python3.11/dist-packages (3.14.1)\n",
            "Requirement already satisfied: typing-extensions in /usr/local/lib/python3.11/dist-packages (from SpeechRecognition) (4.12.2)\n",
            "Collecting pydub\n",
            "  Downloading pydub-0.25.1-py2.py3-none-any.whl.metadata (1.4 kB)\n",
            "Downloading pydub-0.25.1-py2.py3-none-any.whl (32 kB)\n",
            "Installing collected packages: pydub\n",
            "Successfully installed pydub-0.25.1\n"
          ]
        }
      ],
      "source": [
        "!pip install SpeechRecognition\n",
        "!pip install pydub"
      ]
    },
    {
      "cell_type": "code",
      "source": [
        "import speech_recognition as sr\n",
        "import webbrowser\n",
        "import os\n",
        "from pydub import AudioSegment\n",
        "\n",
        "def reconhecer_fala(audio_file):\n",
        "    recognizer = sr.Recognizer()\n",
        "    # Try to read the audio file using pydub\n",
        "    try:\n",
        "        audio_data = AudioSegment.from_file(audio_file)\n",
        "        # Convert audio to WAV format if not already in WAV\n",
        "        if audio_data.frame_rate != 16000:  # Check if the audio format matches google speech recognition requirements\n",
        "            audio_data = audio_data.set_frame_rate(16000) # Convert to 16kHz sample rate if it's not.\n",
        "        if audio_data.channels != 1:\n",
        "            audio_data = audio_data.set_channels(1) # Convert to mono if it's stereo\n",
        "        # Export audio to a temporary WAV file\n",
        "        temp_wav_file = \"temp_audio.wav\"\n",
        "        audio_data.export(temp_wav_file, format=\"wav\")\n",
        "\n",
        "        with sr.AudioFile(temp_wav_file) as source:\n",
        "            print(\"Processando áudio...\")\n",
        "            audio = recognizer.record(source)\n",
        "        os.remove(temp_wav_file)  # Remove the temporary file\n",
        "    except Exception as e:\n",
        "        print(f\"Erro ao carregar o arquivo de áudio: {e}\")\n",
        "        return \"\"\n",
        "\n",
        "    try:\n",
        "        texto = recognizer.recognize_google(audio, language=\"pt-BR\")\n",
        "        print(\"Você disse:\", texto)\n",
        "        return texto.lower()\n",
        "    except sr.UnknownValueError:\n",
        "        print(\"Não foi possível entender o áudio.\")\n",
        "        return \"\"\n",
        "    except sr.RequestError:\n",
        "        print(\"Erro ao conectar com o Google Speech Recognition.\")\n",
        "        return \"\"\n",
        "\n",
        "def executar_comando(comando):\n",
        "    if \"abrir github\" in comando:\n",
        "        print(\"Abrindo GitHub...\")\n",
        "        webbrowser.open(\"https://github.com/\")\n",
        "\n",
        "if __name__ == \"__main__\":\n",
        "    audio_file = \"audio.wav\"\n",
        "    current_directory = os.getcwd()\n",
        "    audio_file = os.path.join(current_directory, audio_file)\n",
        "\n",
        "    comando = reconhecer_fala(audio_file)\n",
        "    executar_comando(comando)"
      ],
      "metadata": {
        "colab": {
          "base_uri": "https://localhost:8080/"
        },
        "id": "nGcgclLz5JIF",
        "outputId": "406a4e05-354a-4a00-c8f6-2bbb2c46f128"
      },
      "execution_count": null,
      "outputs": [
        {
          "output_type": "stream",
          "name": "stdout",
          "text": [
            "Processando áudio...\n",
            "Você disse: abrir github\n",
            "Abrindo GitHub...\n"
          ]
        }
      ]
    }
  ]
}